{
 "cells": [
  {
   "cell_type": "markdown",
   "metadata": {},
   "source": [
    "Uniswap V3：拥有最高的TVL，广泛应用于Ethereum、Polygon、Arbitrum等多个链上。\n",
    "SushiSwap：虽然起源于Uniswap，但其平台上的部分池子使用了Uniswap V3算法，并提供高额SUSHI奖励。\n",
    "Balancer：支持灵活的池子配置，也使用了类似Uniswap V3的集中流动性算法，并提供BAL奖励。\n",
    "PancakeSwap：运行在BNB智能链上，使用了类似Uniswap V3的AMM算法，并提供CAKE奖励。\n",
    "\n",
    "Uniswap V3：主要创新在于集中流动性（Concentrated Liquidity），允许 LP 在特定价格范围内提供流动性，提高了资本效率。\n",
    "Raydium：虽然也使用 AMM 模式，但通过与 Serum 订单簿的集成，提供了一种混合的流动性解决方案，没有使用 Uniswap V3 的集中流动性特性。\n"
   ]
  },
  {
   "cell_type": "markdown",
   "metadata": {},
   "source": [
    "根据DefiLlama的数据，以下是一些总锁仓价值（TVL）超过2000万美元，并使用了Uniswap V3的AMM算法，同时给予流动性提供者（LP）较高奖励的去中心化交易所（DEX）：\n",
    "\n",
    "Uniswap V3：拥有最高的TVL，广泛应用于多个区块链（如Ethereum、Polygon、Arbitrum），为LP提供丰厚的交易费用和平台代币奖励。\n",
    "\n",
    "SushiSwap：部分池子使用了Uniswap V3算法，并提供高额的SUSHI代币奖励，吸引了大量流动性提供者。\n",
    "\n",
    "Balancer V2：虽然主要采用自定义的AMM算法，但也支持类似Uniswap V3的集中流动性机制，并提供BAL代币奖励。\n",
    "\n",
    "PancakeSwap V3：运行在BNB智能链上，采用了类似Uniswap V3的AMM算法，并提供CAKE代币奖励，是BNB智能链上最受欢迎的DEX之一。\n",
    "\n",
    "\n",
    "Thruster V3：在Blast区块链上运行，使用Uniswap V3的AMM算法，为用户提供高效的流动性和收益​ (DefiLlama)​。"
   ]
  },
  {
   "cell_type": "code",
   "execution_count": 1,
   "metadata": {},
   "outputs": [
    {
     "data": {
      "text/plain": [
       "1"
      ]
     },
     "execution_count": 1,
     "metadata": {},
     "output_type": "execute_result"
    }
   ],
   "source": [
    "121%10"
   ]
  },
  {
   "cell_type": "code",
   "execution_count": 18,
   "metadata": {},
   "outputs": [
    {
     "name": "stdout",
     "output_type": "stream",
     "text": [
      "2\n",
      "1.0\n"
     ]
    },
    {
     "data": {
      "text/plain": [
       "21.0"
      ]
     },
     "execution_count": 18,
     "metadata": {},
     "output_type": "execute_result"
    }
   ],
   "source": [
    "n0 = 12\n",
    "n = n0\n",
    "new = 0\n",
    "time = len(str(n0))-1\n",
    "while n > 0:\n",
    "    re = n%10\n",
    "    n = (n - re)/10\n",
    "    print(re)\n",
    "    new += re*10**time\n",
    "    time -= 1\n",
    "new"
   ]
  },
  {
   "cell_type": "code",
   "execution_count": 14,
   "metadata": {},
   "outputs": [
    {
     "data": {
      "text/plain": [
       "121"
      ]
     },
     "execution_count": 14,
     "metadata": {},
     "output_type": "execute_result"
    }
   ],
   "source": [
    "1210//10"
   ]
  },
  {
   "cell_type": "code",
   "execution_count": null,
   "metadata": {},
   "outputs": [],
   "source": []
  }
 ],
 "metadata": {
  "kernelspec": {
   "display_name": "myen",
   "language": "python",
   "name": "python3"
  },
  "language_info": {
   "codemirror_mode": {
    "name": "ipython",
    "version": 3
   },
   "file_extension": ".py",
   "mimetype": "text/x-python",
   "name": "python",
   "nbconvert_exporter": "python",
   "pygments_lexer": "ipython3",
   "version": "3.8.7"
  }
 },
 "nbformat": 4,
 "nbformat_minor": 2
}
